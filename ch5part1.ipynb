{
 "cells": [
  {
   "cell_type": "markdown",
   "metadata": {},
   "source": [
    "<style>\n",
    "\th1 {\n",
    "\t--\tbackground-color: grey;\n",
    "\t\tcolor: yellow\n",
    "\t\tborder: 3px solid grey\n",
    "\n",
    "\t}\n",
    "\tp {\n",
    "\t\tbackground-color: grey;\n",
    "\t\tcolor: white\n",
    "\t\tborder: 3px solid grey\n",
    "\n",
    "\t}\n",
    "</style>\n",
    "<h1> Chapter 5 Functions: Part 1</h1>"
   ]
  },
  {
   "cell_type": "markdown",
   "metadata": {},
   "source": [
    "<p style=\"margin-left:40px\">1. 5.1 Introduction to Functions</p>\n",
    "\n",
    "<p style=\"margin-left:40px\">2. 5.2 Defining and Calling a Void Function</p>\n",
    "\n",
    "<p style=\"margin-left:40px\">3. 5.3 Designing a Program to Use Functions</p>\n",
    "\n",
    "<p style=\"margin-left:40px\">4. 5.4 <mark> Local Variables </mark></p>\n",
    "\n",
    "<p style=\"margin-left:40px\">5. 5.5 <mark> Passing Arguments to Functions </mark></p>\n",
    "\n",
    "<p style=\"margin-left:40px\">6. 5.6 Global Variables and Global Constants</p>\n",
    "\n",
    "<p style=\"margin-left:40px\">7. 5.7 Introduction to <mark>Value-Returning Functions </mark>: Generating Random Numbers</p>\n",
    "\n",
    "<p style=\"margin-left:40px\">8. 5.8 Writing Your Own Value-Returning Functions</p>\n",
    "\n",
    "<p style=\"margin-left:40px\">9. 5.9 The math Module</p>\n",
    "\n",
    "<p style=\"margin-left:40px\">10. 5.10 <mark> Storing Functions in Modules <mark> </p>\n",
    "\n",
    "<p style=\"margin-left:40px\">11. 5.11 Turtle Graphics: Modularizing Code with Functions</p>\n"
   ]
  },
  {
   "cell_type": "markdown",
   "metadata": {},
   "source": [
    "***\n",
    "\n",
    "## <p style=\"background-color: grey; color: white \"> ◼️  functions </p>\n",
    "# <p style=\"font-family: Arial; font-size:1.4em;color:red;\"> 1. Basic Examples of Functions</p>\n"
   ]
  },
  {
   "cell_type": "markdown",
   "metadata": {},
   "source": [
    "<style>\n",
    "\th3{\n",
    "\t\tbackground-color: grey\n",
    "\t\tcolor: white\n",
    "\t}\n",
    "</style>\n",
    "\n",
    "<h3> First example of function </h3>\n",
    "\n",
    "- Run all the following code cells and check out the result of code segments"
   ]
  },
  {
   "cell_type": "markdown",
   "metadata": {},
   "source": [
    "#### <p style=\"font-family: Arial; font-size:1.4em; background-color: yellow; color:black;\"> Problem #1.0 </p>\n",
    "\n",
    "#### Run all the cells and figure out the basic usage of while loop structure"
   ]
  },
  {
   "cell_type": "code",
   "execution_count": 123,
   "metadata": {},
   "outputs": [],
   "source": [
    "def fn():\n",
    "\treturn\n",
    "\n",
    "if __name__ == '__main__':\n",
    "\tfn( )\n",
    "\n"
   ]
  },
  {
   "cell_type": "code",
   "execution_count": 8,
   "metadata": {},
   "outputs": [
    {
     "name": "stdout",
     "output_type": "stream",
     "text": [
      "1\n"
     ]
    }
   ],
   "source": [
    "# Function to return 0 or 1 \n",
    "# if the number is even, return 0, otherwise 1\n",
    "#  checknum ( )\n",
    "\n",
    "def checknum(n):\n",
    "\tif n%2 == 0:\n",
    "\t\treturn 0\n",
    "\telse:\n",
    "\t\treturn 1\n",
    "\n",
    "userinput = int(input())\n",
    "retval = checknum(userinput)\n",
    "\n",
    "print (retval)\n",
    "\n",
    "\n"
   ]
  },
  {
   "cell_type": "code",
   "execution_count": 5,
   "metadata": {},
   "outputs": [
    {
     "name": "stdout",
     "output_type": "stream",
     "text": [
      "[1, 2, 3, 4, 5, 6, 7]\n",
      "[1, 2, 3, 4, 5, 6, 7]\n",
      "[1, 2, 3, 4, 5, 6, 7]\n",
      "[1, 2, 3, 4, 5, 6, 7]\n"
     ]
    }
   ],
   "source": [
    "def printlst(l):\n",
    "\taverage = sum(l) / len(l) \n",
    "\tfor v in l:\n",
    "\t\tif ( average > v):\n",
    "\t\t\tprint(l) \n",
    "\n",
    "lst = [1,2,3,4,5,6,7]\n",
    "printlst(lst) # print all numbers less than avg\n",
    "print (lst) \n"
   ]
  },
  {
   "cell_type": "code",
   "execution_count": 7,
   "metadata": {},
   "outputs": [
    {
     "name": "stdout",
     "output_type": "stream",
     "text": [
      "10023\n"
     ]
    }
   ],
   "source": [
    "\n",
    "def \tgetinput():\n",
    "\tval = int(input())\n",
    "\treturn val\n",
    "\n",
    "userval = getinput()\n",
    "print (userval)\n",
    "\n",
    "\n"
   ]
  },
  {
   "cell_type": "markdown",
   "metadata": {},
   "source": [
    "### How are the functions called?  \n",
    "#### Compare the below two code segments\n",
    "\n",
    "<p style = \"font-size: 22 ppx; color : yellow;\">\n",
    "Both functions getinput() are assigned to a variable in main that calls the functions <br>\n",
    "The first code use a the __name__ function to set the first script name to execute which is this case is main()<br>\n",
    "Thes second code doesn't use the __name__ function and executes top down. When it sees and executes main, the function getinput will be called.<br>\n",
    "</p>\n"
   ]
  },
  {
   "cell_type": "code",
   "execution_count": 9,
   "metadata": {},
   "outputs": [
    {
     "name": "stdout",
     "output_type": "stream",
     "text": [
      "225\n"
     ]
    }
   ],
   "source": [
    "def \tgetinput():\n",
    "\tval = int(input())\n",
    "\treturn val\n",
    "\n",
    "def \tmain():\n",
    "\tuserval = getinput()\n",
    "\tprint (userval)\n",
    "\n",
    "\n",
    "if __name__ == '__main__':\n",
    "\tmain()\n",
    "\n"
   ]
  },
  {
   "cell_type": "code",
   "execution_count": 4,
   "metadata": {},
   "outputs": [],
   "source": [
    "def \tgetinput():\n",
    "\tval = int(input())\n",
    "\treturn val\n",
    "\n",
    "def \tmain():\n",
    "\tuserval = getinput()\n",
    "\tprint (userval)\n"
   ]
  },
  {
   "cell_type": "markdown",
   "metadata": {},
   "source": [
    "#### <p style=\"font-family: Arial; font-size:1.4em; background-color: yellow; color:black;\"> Problem #1.1 </p>\n",
    "\n",
    "####  Edit the above code cell to run main() function\n",
    "\n",
    "```\n",
    "def \tgetinput():\n",
    "\tval = int(input())\n",
    "\treturn val\n",
    "\n",
    "def \tmain():\n",
    "\tuserval = getinput()\n",
    "\tprint (userval)\n",
    "```"
   ]
  },
  {
   "cell_type": "code",
   "execution_count": 3,
   "metadata": {},
   "outputs": [
    {
     "name": "stdout",
     "output_type": "stream",
     "text": [
      "234\n"
     ]
    }
   ],
   "source": [
    "# complete the code to run the main function\n",
    "def getinput():\n",
    "    val = int(input())\n",
    "    return val\n",
    "\n",
    "def main():\n",
    "    userval = getinput()\n",
    "    print (userval)\n",
    "\n",
    "if __name__ == '__main__':\n",
    "    main()\n",
    "    "
   ]
  },
  {
   "cell_type": "markdown",
   "metadata": {},
   "source": [
    "#### <p style=\"font-family: Arial; font-size:1.4em; background-color: yellow; color:black;\"> Problem #1.2 </p>\n",
    "\n",
    "####  Check out this code. This code is working without main() function. \n",
    "#### Explain how this code is working properly without main() function\n",
    "\n",
    "```\n",
    "def \tgetinput():\n",
    "\tval = int(input())\n",
    "\treturn val\n",
    "\n",
    "userval = getinput()\n",
    "print (userval)\n",
    "```"
   ]
  },
  {
   "cell_type": "markdown",
   "metadata": {},
   "source": [
    "\n",
    "<p style=\"font-size: 22px; color: yellow;\">\n",
    "Main() function is not required to run the program but it is good practice. Python executes the code directly as it is encountered since it is not encapsulated in a function  Python executes it immediately as the script is run.\n",
    "</p>"
   ]
  },
  {
   "cell_type": "code",
   "execution_count": 15,
   "metadata": {},
   "outputs": [
    {
     "name": "stdout",
     "output_type": "stream",
     "text": [
      "230\n"
     ]
    }
   ],
   "source": [
    "def \tgetinput():\n",
    "\tval = int(input())\n",
    "\treturn val\n",
    "\n",
    "userval = getinput()\n",
    "print (userval)\n"
   ]
  },
  {
   "cell_type": "markdown",
   "metadata": {},
   "source": [
    "## Don't forget to <font color='red'> **\"commit\"** </font> your work or <font color='red'> **\"save\"** </font> in Google Colab\n",
    "## before moving to the next section."
   ]
  },
  {
   "cell_type": "markdown",
   "metadata": {},
   "source": [
    "***\n",
    "\n",
    "## <p style=\"background-color: grey; color: white \"> ◼️  Local Variables </p>\n",
    "# <p style=\"font-family: Arial; font-size:1.4em;color:red;\"> 2. Local Variables </p>\n"
   ]
  },
  {
   "cell_type": "markdown",
   "metadata": {},
   "source": [
    "### Check out the variable \"userval\" after the function call \"getinput()\""
   ]
  },
  {
   "cell_type": "code",
   "execution_count": 1,
   "metadata": {},
   "outputs": [
    {
     "name": "stdout",
     "output_type": "stream",
     "text": [
      "22\n"
     ]
    }
   ],
   "source": [
    "def \tgetinput():\n",
    "\tval = int(input())\n",
    "\treturn val\n",
    "\n",
    "def \tmain():\n",
    "\tuserval = getinput()\n",
    "\tprint (userval)\n",
    "\t# print (val)\n",
    "\n",
    "if __name__ == '__main__':\n",
    "\tmain()\n",
    "\t\n"
   ]
  },
  {
   "cell_type": "code",
   "execution_count": 18,
   "metadata": {},
   "outputs": [
    {
     "name": "stdout",
     "output_type": "stream",
     "text": [
      "30\n"
     ]
    }
   ],
   "source": [
    "def getsum(n1, n2):\n",
    "\tval = n1 + n2\n",
    "\treturn val\n",
    "\n",
    "def main():\n",
    "\ta = 10; b = 20\n",
    "\tuserval = getsum(a, b)\n",
    "\tprint (userval)\n",
    "\n",
    "if __name__ == '__main__':\n",
    "\tmain()\n"
   ]
  },
  {
   "cell_type": "markdown",
   "metadata": {},
   "source": [
    "<style>\n",
    "\tp {\n",
    "\t\tbackground-color: grey;\n",
    "\t\tcolor: white;\n",
    "\t\tborder: 3px solid grey\n",
    "\n",
    "\t}\n",
    "</style>\n",
    "\n",
    "<p> Making Changes to Parameters </p>\n"
   ]
  },
  {
   "cell_type": "markdown",
   "metadata": {},
   "source": [
    "#### <p style=\"font-family: Arial; font-size:1.4em; background-color: yellow; color:black;\"> Problem #2.1 </p>\n",
    "\n",
    "####  Check out this code. After the function call \"getinput()\" at the line 8 in the main function,  \n",
    "#### show the  values \"a\" and \"b\" \n"
   ]
  },
  {
   "cell_type": "code",
   "execution_count": 22,
   "metadata": {},
   "outputs": [
    {
     "name": "stdout",
     "output_type": "stream",
     "text": [
      "The value of parameter n1 and n2 are 6 and 2\n",
      "The value of a and b are 0 and 0\n"
     ]
    }
   ],
   "source": [
    "\n",
    "def getinput(n1, n2):\n",
    "\tn1 = input()\n",
    "\tn2 = input()\n",
    "\tprint (\"The value of parameter n1 and n2 are {0} and {1}\".format(n1, n2))\n",
    " \n",
    "\n",
    "def main():\n",
    "\ta = 0; b = 0\n",
    "\tgetinput(a, b)\n",
    "\tprint (\"The value of a and b are {0} and {1}\".format(a, b))\n",
    "\n",
    "if __name__ == '__main__':\n",
    "\tmain()\n"
   ]
  },
  {
   "cell_type": "markdown",
   "metadata": {},
   "source": [
    "### <mark> Explain why both values are 0 </mark>\n",
    "\n",
    "<p style=\"font-size: 22px; color: yellow;\">\n",
    "Both a and b values remains 0 through the whole main() function. The values of a and b are passed by assignment to the getinput(n1,n2) and the user is prompted for input n1 and n2 then printed in that function. n1 and n2 are local variables to getinput() and cannot change and b. The values of n1 and n2 are never returned and assigned back to a and b. Therefore the orginal values of a=0 and b=0 remained.\n",
    "</p>"
   ]
  },
  {
   "cell_type": "markdown",
   "metadata": {},
   "source": [
    "---\n",
    "#### <p style=\"font-family: Arial; font-size:1.4em; background-color: yellow; color:black;\"> Problem #2.2 </p>\n",
    "\n",
    "####  Check out this code. After the function call \"getinput()\" in the main function,  \n",
    "#### show the  values \"list1\". Explain the result. \n",
    "### In problem 2.1, there were no changes even though the values were altered in the function getinput().\n",
    "### In this code, when you assign the values to the list \"l1\", these changes affect to the main function.\n"
   ]
  },
  {
   "cell_type": "markdown",
   "metadata": {},
   "source": [
    "<style>\n",
    "\tp {\n",
    "\t\tbackground-color: grey;\n",
    "\t\tcolor: white;\n",
    "\t\tborder: 3px solid grey\n",
    "\n",
    "\t}\n",
    "</style>\n",
    "\n",
    "<p> Making Changes to Parameters 2 </p>\n"
   ]
  },
  {
   "cell_type": "code",
   "execution_count": 23,
   "metadata": {},
   "outputs": [
    {
     "name": "stdout",
     "output_type": "stream",
     "text": [
      "The value of parameter l1  ['23', '5', '81']\n",
      "The value of list1 ['23', '5', '81']\n"
     ]
    }
   ],
   "source": [
    "\n",
    "def getinput(l1):\n",
    "\tl1.append(input())\n",
    "\tl1.append(input())\n",
    "\tl1.append(input())\n",
    "\tprint (\"The value of parameter l1 \", l1)\n",
    "\n",
    "def main():\n",
    "\tlist1 = []\t\n",
    "\tgetinput(list1)\n",
    "\tprint (\"The value of list1\", list1);\n",
    "\n",
    "if __name__ == '__main__':\n",
    "\tmain()\n"
   ]
  },
  {
   "cell_type": "markdown",
   "metadata": {},
   "source": [
    "## Answer the question 2.2 here\n",
    "\n",
    "<p style = \"font-style : 22px; color: yellow\">\n",
    "A list is a mutable object in python and can be modified in another function when passed as an argument.  When you pass a list to a function like getinput(), you are paasing a reference to the same list object, not a copy of the list. Since the empty list1[] reference was passed and modified by inputing3 input values, these new values are now flected in the main() function\n",
    "</p>"
   ]
  },
  {
   "cell_type": "markdown",
   "metadata": {},
   "source": [
    "---\n",
    "#### <p style=\"font-family: Arial; font-size:1.4em; background-color: yellow; color:black;\"> Problem #2.3 </p>\n",
    "\n",
    "####  Check out this code. \n",
    "####  Can we return multiple values in the function? \n"
   ]
  },
  {
   "cell_type": "markdown",
   "metadata": {},
   "source": [
    "<style>\n",
    "\tp {\n",
    "\t\tbackground-color: grey;\n",
    "\t\tcolor: white;\n",
    "\t\tborder: 3px solid grey\n",
    "\n",
    "\t}\n",
    "</style>\n",
    "\n",
    "<p> Returning multiple values</p>\n"
   ]
  },
  {
   "cell_type": "code",
   "execution_count": 27,
   "metadata": {},
   "outputs": [
    {
     "name": "stdout",
     "output_type": "stream",
     "text": [
      "The value of num1 and num2 are 1 and 99\n"
     ]
    }
   ],
   "source": [
    "\n",
    "def getinput():\n",
    "\tval1 = input()\n",
    "\tval2 = input()\n",
    "\treturn val1, val2\n",
    "\n",
    "def main():\n",
    "\tnum1, num2 = getinput()\t\n",
    "\tprint (\"The value of num1 and num2 are {0} and {1}\".format(num1, num2))\n",
    "\n",
    "if __name__ == '__main__':\n",
    "\tmain()\n"
   ]
  },
  {
   "cell_type": "markdown",
   "metadata": {},
   "source": [
    "## Answer the question 2.3 here\n",
    "\n",
    "<p style= \"font-style: 24ppx; color: yellow;\">\n",
    "Yes, multiple values can be returned from a function call. The values are often returned as a tuple data type\n",
    "</p>"
   ]
  },
  {
   "cell_type": "markdown",
   "metadata": {},
   "source": [
    "---\n",
    "#### <p style=\"font-family: Arial; font-size:1.4em; background-color: yellow; color:black;\"> Problem #2.4 </p>\n",
    "\n",
    "####  Print the local variable that was used in the function getsum() in the main() function. \n",
    "####  Can we print the same value ? Errors? Why?\n",
    "#### Suggest how we can print the 'total' of the function getsum() in the main() \n"
   ]
  },
  {
   "cell_type": "code",
   "execution_count": 28,
   "metadata": {},
   "outputs": [
    {
     "name": "stdout",
     "output_type": "stream",
     "text": [
      "Total is 30\n",
      "Total is 0\n"
     ]
    }
   ],
   "source": [
    "def getsum(n1, n2):\n",
    "    total = n1 + n2\n",
    "    print(f'Total is {total}')\n",
    "\n",
    "def main():\n",
    "    total = 0\n",
    "    num1 = 10\n",
    "    num2 = 20\n",
    "    getsum(num1, num2)\n",
    "    print(f'Total is {total}')\n",
    "\n",
    "if __name__ == '__main__':\n",
    "    main()"
   ]
  },
  {
   "cell_type": "markdown",
   "metadata": {},
   "source": [
    "## Answer the question 2.4 here\n",
    "\n",
    "<p style=\" font-style: 22ppx; color: yellow;\">\n",
    "- No, the variable total will not have the same value when executed in either the getsum() and main() functions. Inside the getsum() funcion, total is a local variable and exist only within the scope of that function. It will only print the local total value calculated from the argument values n1 and n2. The total variable inside main() is also a separate lcoal variable whose scope only stays with the main() function. Since total=0 at main() did not get updated, it remains 0. The getsum() function never returned a value to modify total's value in main()\n",
    "</p>"
   ]
  },
  {
   "cell_type": "markdown",
   "metadata": {},
   "source": [
    "---\n",
    "## Don't forget to <font color='red'> **\"commit\"** </font> your work or <font color='red'> **\"save\"** </font> in Google Colab\n",
    "## before moving to the next section."
   ]
  },
  {
   "cell_type": "markdown",
   "metadata": {},
   "source": [
    "<style>\n",
    "\tp {\n",
    "\t\tbackground-color: grey;\n",
    "\t\tcolor: white;\n",
    "\t\tborder: 3px solid grey\n",
    "\n",
    "\t}\n",
    "</style>\n",
    "\n",
    "<p> Keyword Arguments </p>\n"
   ]
  },
  {
   "cell_type": "markdown",
   "metadata": {},
   "source": [
    "***\n",
    "## <p style=\"background-color: grey; color: white \"> ◼️  Keyworded Arguments </p>\n",
    "# <p style=\"font-family: Arial; font-size:1.4em;color:red;\"> 3. Keyworded Arguments</p>\n"
   ]
  },
  {
   "cell_type": "markdown",
   "metadata": {},
   "source": [
    "#### The parameter order can be changed if the keyworded arguments are used"
   ]
  },
  {
   "cell_type": "code",
   "execution_count": 2,
   "metadata": {},
   "outputs": [
    {
     "name": "stdout",
     "output_type": "stream",
     "text": [
      "The first parameter n1 is 200\n",
      "The second parameter n2 is 100\n",
      "The total is 300\n",
      "The value of total is 300\n"
     ]
    }
   ],
   "source": [
    "\n",
    "def getsum(n1, n2):\n",
    "\tprint (f'The first parameter n1 is {n1}')\n",
    "\tprint (f'The second parameter n2 is {n2}')\n",
    "\ttotal = n1 + n2\n",
    "\tprint (f'The total is {total}')\n",
    "\treturn total\n",
    "\n",
    "def main():\n",
    "\ttotal = getsum(n2=100, n1=200)\t# giving the second parameter first\n",
    "\tprint (f'The value of total is {total}')\n",
    "\n",
    "if __name__ == '__main__':\n",
    "\tmain()"
   ]
  },
  {
   "cell_type": "markdown",
   "metadata": {},
   "source": [
    "#### <p style=\"font-family: Arial; font-size:1.4em; background-color: yellow; color:black;\"> Problem #3.1 </p>\n",
    "\n",
    "### The function setListValues() will work to make the mylst that has the values 100, 200 and 300\n",
    "####  Complete the function call to make the list as following \n",
    "```\n",
    "mylst = [100, 200, 300]\n"
   ]
  },
  {
   "cell_type": "code",
   "execution_count": 20,
   "metadata": {},
   "outputs": [
    {
     "name": "stdout",
     "output_type": "stream",
     "text": [
      "[100, 200, 300]\n"
     ]
    }
   ],
   "source": [
    "def setListValues(first_element, second_element, third_element):\n",
    "    mylst=[None]*3\n",
    "    mylst[0] = first_element\n",
    "    mylst[1] = second_element\n",
    "    mylst[2] = third_element\n",
    "    return mylst\n",
    "   \n",
    "def main():\n",
    "    mylst = setListValues(third_element= 300, \n",
    "                  second_element= 200, \n",
    "                  first_element= 100)\n",
    "            \n",
    "    print(mylst)\n",
    "\n",
    "if __name__ == '__main__':\n",
    "    main()\n",
    "     "
   ]
  },
  {
   "cell_type": "markdown",
   "metadata": {},
   "source": [
    "### Follow up Question\n",
    "\n",
    "### Is the list \"mylst\" in function \"setListValues()\" as the one in \"main\"?\n",
    "\n",
    "<p style = \"font-size: 22ppx ; color : yellow ;\">\n",
    "- No, in the original code, mylst is a local variable declared inside the setListValues() function meaning it only exists within that function. Once the function finishes execution, mylst is discarded, and the variable is not accessible from main() or anywhere else outside of setListValues().\n",
    "</p>\n"
   ]
  },
  {
   "cell_type": "markdown",
   "metadata": {},
   "source": [
    "### Your Answer :\n",
    "---"
   ]
  },
  {
   "cell_type": "markdown",
   "metadata": {},
   "source": [
    "## Don't forget to <font color='red'> **\"commit\"** </font> your work or <font color='red'> **\"save\"** </font> in Google Colab\n",
    "## before moving to the next section."
   ]
  },
  {
   "cell_type": "markdown",
   "metadata": {},
   "source": [
    "***\n",
    "## <p style=\"background-color: grey; color: white \"> ◼️  Global Variables </p>\n",
    "# <p style=\"font-family: Arial; font-size:1.4em;color:red;\"> 4. Global Variables</p>\n"
   ]
  },
  {
   "cell_type": "markdown",
   "metadata": {},
   "source": [
    "<style>\n",
    "\tp {\n",
    "\t\tbackground-color: grey;\n",
    "\t\tcolor: white;\n",
    "\t\tborder: 3px solid grey\n",
    "\n",
    "\t}\n",
    "</style>\n",
    "\n",
    "<p> Global Variables </p>\n",
    "\n",
    "Run the below code and check out the values <mark> gvar </mark>\n"
   ]
  },
  {
   "cell_type": "code",
   "execution_count": 21,
   "metadata": {},
   "outputs": [
    {
     "name": "stdout",
     "output_type": "stream",
     "text": [
      "Before call myfunction1  100\n",
      "Inside the function  111\n",
      "After call myfunction1  111\n"
     ]
    }
   ],
   "source": [
    "gvar = 100\n",
    "\n",
    "def myfunction1():\n",
    "\tprint ('Inside the function ', gvar)\n",
    "\n",
    "\n",
    "def main():\n",
    "\tglobal gvar\n",
    "\tprint ('Before call myfunction1 ', gvar)\n",
    "\tgvar += 11\n",
    "\t\n",
    "\tmyfunction1()\n",
    "\tprint ('After call myfunction1 ', gvar)\n",
    "\n",
    "if __name__ == '__main__':\n",
    "\tmain()"
   ]
  },
  {
   "cell_type": "markdown",
   "metadata": {},
   "source": [
    "#### <p style=\"font-family: Arial; font-size:1.4em; background-color: yellow; color:black;\"> Problem #4.1 </p>\n",
    "\n",
    "####  Explain the printed the value of \"gvar\"  \n",
    "\n",
    "<p style = \"font-size: 22 ppx ; color: yellow;\">\n",
    "- print ('Before call myfunction1 ', gvar)                  --> prints the value of gvar = 100 /n \n",
    "<p style = \"font-size: 22 ppx ; color: yellow;\">\n",
    "- myfunction1()                                             --> gvar = 100 + 1 = 101\n",
    "<p style = \"font-size: 22 ppx ; color: yellow;\">\n",
    "- print ('After call myfunction1 ', gvar)                   --> prints the value of gvar = 101\n",
    "<p style = \"font-size: 22 ppx ; color: yellow;\">\n",
    "- gvar += 1                                                 --> adds 1 to the gvar = 101 + 1 = 102\n",
    "<p style = \"font-size: 22 ppx ; color: yellow;\">\n",
    "- print ('After increasing by 1 in main function', gvar)    --> print the value of gvar = 102\n",
    "</p>"
   ]
  },
  {
   "cell_type": "code",
   "execution_count": 20,
   "metadata": {},
   "outputs": [
    {
     "name": "stdout",
     "output_type": "stream",
     "text": [
      "Before call myfunction1  100\n",
      "After call myfunction1  101\n",
      "After increasing by 1 in main function 102\n"
     ]
    }
   ],
   "source": [
    "gvar = 100\n",
    "\n",
    "def myfunction1():\n",
    "    global gvar\n",
    "    gvar += 1\n",
    "\n",
    "def main():\n",
    "\tglobal gvar\n",
    "\tprint ('Before call myfunction1 ', gvar)\n",
    "\tmyfunction1()\n",
    "\tprint ('After call myfunction1 ', gvar)\n",
    "\tgvar += 1\n",
    "\tprint ('After increasing by 1 in main function', gvar)\n",
    "\n",
    "if __name__ == '__main__':\n",
    "\tmain()"
   ]
  },
  {
   "cell_type": "markdown",
   "metadata": {},
   "source": [
    "#### <p style=\"font-family: Arial; font-size:1.4em; background-color: yellow; color:black;\"> Problem #4.2 </p>\n",
    "\n",
    "####  Explain the printed the value of \"gvar\" is 100 even though it has been increased by 1 in the myfuntion1() \n",
    "\n",
    "<p style = \"font-size: 22 ppx ; color: yellow;\">\n",
    "- print ('Before call myfunction1 ', gvar)                  --> prints the value of gvar = 100 /n \n",
    "<p style = \"font-size: 22 ppx ; color: yellow;\">\n",
    "- myfunction1()                                             --> local variable declared gvar = 0, then incremented by 1\n",
    "<p style = \"font-size: 22 ppx ; color: yellow;\">\n",
    "- print ('After call myfunction1 ', gvar)                   --> gvar remains 100 since myfunction1() only incremented a local variable\n",
    "\n",
    "</p>"
   ]
  },
  {
   "cell_type": "code",
   "execution_count": 23,
   "metadata": {},
   "outputs": [
    {
     "name": "stdout",
     "output_type": "stream",
     "text": [
      "Before call myfunction1  100\n",
      "After call myfunction1  100\n"
     ]
    }
   ],
   "source": [
    "gvar = 100\n",
    "\n",
    "def myfunction1():\n",
    "    gvar = 0 \n",
    "    gvar += 1\n",
    "\n",
    "def main():\n",
    "\tglobal gvar\n",
    "\tprint ('Before call myfunction1 ', gvar)\n",
    "\tmyfunction1()\n",
    "\tprint ('After call myfunction1 ', gvar)\n",
    "\n",
    "if __name__ == '__main__':\n",
    "\tmain()"
   ]
  },
  {
   "cell_type": "markdown",
   "metadata": {},
   "source": [
    "#### <p style=\"font-family: Arial; font-size:1.4em; background-color: yellow; color:black;\"> Problem #4.3 </p>\n",
    "\n",
    "####  Explain why this code encounters error\n",
    "####  Fix the Errors and show the complete code \n",
    "\n",
    "<p style= \"font-size: 22 ppx; color: yellow ;\">\n",
    "- The error is an UnboundLocalError because myfunction() is trying to modify the global variable gvar without properly telling Python that gvar is a global variable. Python thinks you are trying to use a local variable before assigning a value to it. It needs to be explicitly told that gvar is a global variable\n",
    "</p>"
   ]
  },
  {
   "cell_type": "code",
   "execution_count": 3,
   "metadata": {},
   "outputs": [
    {
     "name": "stdout",
     "output_type": "stream",
     "text": [
      "Before call myfunction1  100\n"
     ]
    },
    {
     "ename": "UnboundLocalError",
     "evalue": "cannot access local variable 'gvar' where it is not associated with a value",
     "output_type": "error",
     "traceback": [
      "\u001b[1;31m---------------------------------------------------------------------------\u001b[0m",
      "\u001b[1;31mUnboundLocalError\u001b[0m                         Traceback (most recent call last)",
      "Cell \u001b[1;32mIn[3], line 13\u001b[0m\n\u001b[0;32m     10\u001b[0m \t\u001b[38;5;28mprint\u001b[39m (\u001b[38;5;124m'\u001b[39m\u001b[38;5;124mAfter call myfunction1 \u001b[39m\u001b[38;5;124m'\u001b[39m, gvar)\n\u001b[0;32m     12\u001b[0m \u001b[38;5;28;01mif\u001b[39;00m \u001b[38;5;18m__name__\u001b[39m \u001b[38;5;241m==\u001b[39m \u001b[38;5;124m'\u001b[39m\u001b[38;5;124m__main__\u001b[39m\u001b[38;5;124m'\u001b[39m:\n\u001b[1;32m---> 13\u001b[0m \tmain()\n",
      "Cell \u001b[1;32mIn[3], line 9\u001b[0m, in \u001b[0;36mmain\u001b[1;34m()\u001b[0m\n\u001b[0;32m      7\u001b[0m \u001b[38;5;28;01mglobal\u001b[39;00m gvar\n\u001b[0;32m      8\u001b[0m \u001b[38;5;28mprint\u001b[39m (\u001b[38;5;124m'\u001b[39m\u001b[38;5;124mBefore call myfunction1 \u001b[39m\u001b[38;5;124m'\u001b[39m, gvar)\n\u001b[1;32m----> 9\u001b[0m myfunction1()\n\u001b[0;32m     10\u001b[0m \u001b[38;5;28mprint\u001b[39m (\u001b[38;5;124m'\u001b[39m\u001b[38;5;124mAfter call myfunction1 \u001b[39m\u001b[38;5;124m'\u001b[39m, gvar)\n",
      "Cell \u001b[1;32mIn[3], line 4\u001b[0m, in \u001b[0;36mmyfunction1\u001b[1;34m()\u001b[0m\n\u001b[0;32m      3\u001b[0m \u001b[38;5;28;01mdef\u001b[39;00m \u001b[38;5;21mmyfunction1\u001b[39m():\n\u001b[1;32m----> 4\u001b[0m     gvar \u001b[38;5;241m+\u001b[39m\u001b[38;5;241m=\u001b[39m \u001b[38;5;241m1\u001b[39m\n",
      "\u001b[1;31mUnboundLocalError\u001b[0m: cannot access local variable 'gvar' where it is not associated with a value"
     ]
    }
   ],
   "source": [
    "gvar = 100\n",
    "\n",
    "def myfunction1():\n",
    "    gvar += 1\n",
    "\n",
    "def main():\n",
    "\tglobal gvar\n",
    "\tprint ('Before call myfunction1 ', gvar)\n",
    "\tmyfunction1()\n",
    "\tprint ('After call myfunction1 ', gvar)\n",
    "\n",
    "if __name__ == '__main__':\n",
    "\tmain()"
   ]
  },
  {
   "cell_type": "code",
   "execution_count": 4,
   "metadata": {},
   "outputs": [
    {
     "name": "stdout",
     "output_type": "stream",
     "text": [
      "Before call myfunction1  100\n",
      "After call myfunction1  101\n"
     ]
    }
   ],
   "source": [
    "# Fix the errors and show the complete code here\n",
    "gvar = 100\n",
    "\n",
    "def myfunction1():\n",
    "    global gvar\n",
    "    gvar += 1\n",
    "\n",
    "def main():\n",
    "\tglobal gvar\n",
    "\tprint ('Before call myfunction1 ', gvar)\n",
    "\tmyfunction1()\n",
    "\tprint ('After call myfunction1 ', gvar)\n",
    "\n",
    "if __name__ == '__main__':\n",
    "\tmain()"
   ]
  },
  {
   "cell_type": "markdown",
   "metadata": {},
   "source": [
    "## Please <font color='red'> **\"commit\"** </font> your work or <font color='red'> **\"save\"** </font> in Google Colab\n",
    "## before moving to the next section."
   ]
  },
  {
   "cell_type": "markdown",
   "metadata": {},
   "source": [
    "***\n",
    "## <p style=\"background-color: grey; color: white \"> ◼️  Arbitrary Arguments and Keyword Arguments</p>\n",
    "# <p style=\"font-family: Arial; font-size:1.4em;color:red;\"> 5. Arbitrary Arguments and Keyword Arguments</p>\n"
   ]
  },
  {
   "cell_type": "markdown",
   "metadata": {},
   "source": [
    "## Arbitrary Argument\n",
    "\n",
    "### An arbitrary argument in Python allows a function to accept an unspecified number of arguments using *args for non-keyword arguments or **kwargs for keyword arguments"
   ]
  },
  {
   "cell_type": "markdown",
   "metadata": {},
   "source": [
    "### Arbitrary Arguments (*args):\n",
    "```\n",
    "* is used to allow a function to accept an arbitrary number of positional arguments.\n",
    "```\n",
    "\n",
    "Basic Example"
   ]
  },
  {
   "cell_type": "code",
   "execution_count": 5,
   "metadata": {},
   "outputs": [
    {
     "name": "stdout",
     "output_type": "stream",
     "text": [
      "Hello, Alice!\n",
      "Hello, Bob!\n",
      "Hello, Charlie!\n"
     ]
    }
   ],
   "source": [
    "def greet(*args):\n",
    "    for name in args:\n",
    "        print(f\"Hello, {name}!\")\n",
    "\n",
    "greet(\"Alice\", \"Bob\", \"Charlie\")\n"
   ]
  },
  {
   "cell_type": "markdown",
   "metadata": {},
   "source": [
    "#### Understanding the function type()"
   ]
  },
  {
   "cell_type": "code",
   "execution_count": 6,
   "metadata": {},
   "outputs": [
    {
     "data": {
      "text/plain": [
       "int"
      ]
     },
     "execution_count": 6,
     "metadata": {},
     "output_type": "execute_result"
    }
   ],
   "source": [
    "number = 10\n",
    "type(number)"
   ]
  },
  {
   "cell_type": "markdown",
   "metadata": {},
   "source": [
    "### Check the data type for the arbitrary argument\n"
   ]
  },
  {
   "cell_type": "markdown",
   "metadata": {},
   "source": [
    "#### <p style=\"font-family: Arial; font-size:1.4em; background-color: yellow; color:black;\"> Problem #5.1 </p>\n",
    "\n",
    "####  Check the printed data type.  \n",
    "####  Type the printed data type in the below \n"
   ]
  },
  {
   "cell_type": "code",
   "execution_count": 7,
   "metadata": {},
   "outputs": [
    {
     "name": "stdout",
     "output_type": "stream",
     "text": [
      "<class 'tuple'>\n",
      "(10, 20, 30)\n",
      "10\t20\t30\t"
     ]
    }
   ],
   "source": [
    "def myfunction(*values):\n",
    "    print(type(values))\n",
    "    print (values)\n",
    "    for v in values:\n",
    "        print (v, end='\\t')\n",
    "        \n",
    "n1 = 10; n2 = 20; n3=30;\n",
    "myfunction(n1, n2, n3)"
   ]
  },
  {
   "cell_type": "markdown",
   "metadata": {},
   "source": [
    "#### <mark> Type your answer here </mark>\n",
    "- What is the data type of values in the function ?\n",
    "\n",
    "<p style = \"font-size: 22 ppx; color: yellow; \">\n",
    "- The data type of (values) is tuple because *value syntax in the function argument is an arbitray argument. Python collects them into a tuple because a tuple is an immutable collection and can hold an arbitrary number of elements.\n",
    "</p>\n"
   ]
  },
  {
   "cell_type": "markdown",
   "metadata": {},
   "source": [
    "***\n",
    "#### <p style=\"font-family: Arial; font-size:1.4em; background-color: yellow; color:black;\"> Problem #5.2 </p>\n",
    "\n",
    "####  Check the printed data type.  \n",
    "####  Type the printed data type in the below \n"
   ]
  },
  {
   "cell_type": "code",
   "execution_count": 10,
   "metadata": {},
   "outputs": [
    {
     "name": "stdout",
     "output_type": "stream",
     "text": [
      "<class 'list'> It has been printed in the main()\n",
      "<class 'tuple'> It has been printed in the funtion myfuntion()\n",
      "The value of args is  ([10, 20, 30],)\n",
      "[10, 20, 30]\t \n"
     ]
    }
   ],
   "source": [
    "def myfunction(*args):\n",
    "    print(type(args), 'It has been printed in the funtion myfuntion()') # type the printed data type in the below cell\n",
    "    print ('The value of args is ', args)\n",
    "    for v in args:\n",
    "        print (v, end='\\t')\n",
    "    print(' ')\n",
    "def main():\n",
    "    values = [10, 20, 30]\n",
    "    print (type(values), 'It has been printed in the main()')    # type the printed data type in the below cell\n",
    "    myfunction(values)\n",
    "\n",
    "if __name__ == '__main__':\n",
    "    main()\n"
   ]
  },
  {
   "cell_type": "markdown",
   "metadata": {},
   "source": [
    "#### <mark> Type your answer here </mark>\n",
    "\n",
    "### Are the two printed data types same? \n",
    "\n",
    "- What is the data type printed in main()?\n",
    "\n",
    "<p style = \"font-size : 22ppx; color: yellow;\">\n",
    "- The data type printed in main is a list\n",
    "<p>\n",
    "\n",
    "- What is the data type printed in myfunction()?\n",
    "<p style = \"font-size : 22ppx; color: yellow;\">\n",
    "- The data type printed in myfunction is a tuple\n",
    "<p>\n",
    "\n",
    "- How many elements are there in the tuple \"args\" ?\n",
    "<p style = \"font-size : 22ppx; color: yellow;\">\n",
    "- There is 1 element in the tuple \"args\" which is a list element\n",
    "<p>\n",
    "\n",
    "- What is the data type of <mark> element </mark> in the tuple \"args\" ? \n",
    "<p style = \"font-size : 22ppx; color: yellow;\">\n",
    "- The data type of the element is a list\n",
    "<p>\n",
    "\n",
    "- How many elements are there in the list \"values\" ?  How many iterations are occured in the for loop of myfuntion()? Why? Explain it.\n",
    "<p style = \"font-size : 22ppx; color: yellow;\">\n",
    "- There are 3 elements in the list \"values\"\n",
    "<p style = \"font-size : 22ppx; color: yellow;\">\n",
    "- There is only 1 iteration that occured in myfuncton() because the tuple *args has only  1 element which is the list [10,20,30]\n",
    "<p>"
   ]
  },
  {
   "cell_type": "markdown",
   "metadata": {},
   "source": [
    "***\n",
    "#### <p style=\"font-family: Arial; font-size:1.4em; background-color: yellow; color:black;\"> Problem #5.3 </p>\n",
    "\n",
    "####  Check the printed data type and clarify the difference printed output values between two function calls\n",
    "####  \n"
   ]
  },
  {
   "cell_type": "code",
   "execution_count": 11,
   "metadata": {},
   "outputs": [
    {
     "name": "stdout",
     "output_type": "stream",
     "text": [
      "<class 'tuple'>\n",
      "([10, 20, 30],)\n",
      "[10, 20, 30]\t\n",
      "<class 'tuple'>\n",
      "(10, 20, 30)\n",
      "10\t20\t30\t\n"
     ]
    }
   ],
   "source": [
    "def myfunction(*values):\n",
    "    print(type(values)) # type the printed data type in the below cell\n",
    "    print (values)\n",
    "    for v in values:\n",
    "        print (v, end='\\t')\n",
    "    print()\n",
    "\n",
    "def main(): \n",
    "    values = [10, 20, 30]\n",
    "    myfunction(values)          # It prints (10, 20, 30)    Why ?\n",
    "\n",
    "    val1 = 10 ; val2 = 20; val3 = 30;\n",
    "    myfunction(val1, val2, val3)        # It prints 10 20 30 ; Why?\n",
    "if __name__ == '__main__':\n",
    "    main()\n"
   ]
  },
  {
   "cell_type": "markdown",
   "metadata": {},
   "source": [
    "#### <mark> Type your answer here </mark>\n",
    "\n",
    "### Are the two printed data types same? \n",
    "\n",
    "- What is the data type printed in main()?\n",
    "<p style = \"font-size : 22ppx; color: yellow;\">\n",
    "- The data type first used in main() is a list which is passed to the myfunction as an argument.\n",
    "<p style = \"font-size : 22ppx; color: yellow;\">\n",
    "- The second data types used in main() are 3 integers which are also passed to myfunction() as an argument.\n",
    "\n",
    "\n",
    "- What is the data type printed in myfunction()?\n",
    "<p style = \"font-size : 22ppx; color: yellow;\">\n",
    "- On the first function call, the data type in values is a tuple which contains 1 list element. The list [10,20,30] is printed out when the elements of the tuple are iterated through\n",
    "<p style = \"font-size : 22ppx; color: yellow;\">\n",
    "- One the second function call, the data type of values inside myfunction() is also a tuple, but contains 3 elements of int values. The 3 integers, 10, 20, and 30 are printed out when the tuple elements are iterated\n",
    "\n",
    "\n",
    "- How many elements are there in the tuple 'values' at each call myfunction() ? How many iterations are occured in the for-loop? why?\n",
    "<p style = \"font-size : 22ppx; color: yellow;\">\n",
    "- The first call to myfunction() produces a tuple with 1 element which is a list [10,20,30]\n",
    "<p style = \"font-size : 22ppx; color: yellow;\">\n",
    "- The second call to myfunction() also produces a tuple but with 3 elements of int values 10,20,30\n",
    "\n",
    "<p>"
   ]
  },
  {
   "cell_type": "markdown",
   "metadata": {},
   "source": [
    "***\n",
    "#### <p style=\"font-family: Arial; font-size:1.4em; background-color: yellow; color:black;\"> Problem #5.4 </p>\n",
    "\n",
    "####  Clarify the differences between two functions \"myfn1\" and \"myfn2\" \n",
    "####  Answer in the below markdown cell. \n"
   ]
  },
  {
   "cell_type": "code",
   "execution_count": 12,
   "metadata": {},
   "outputs": [
    {
     "name": "stdout",
     "output_type": "stream",
     "text": [
      "<class 'tuple'>\n",
      "[10, 20, 30]\t\n",
      "<class 'list'>\n",
      "10\t20\t30\t"
     ]
    }
   ],
   "source": [
    "def myfn1(*values):\n",
    "    print (type(values))            \n",
    "    for v in values:\n",
    "        print (v, end='\\t')\n",
    "\n",
    "def myfn2(values):\n",
    "    print (type(values))            \n",
    "    for v in values:\n",
    "        print (v, end='\\t')\n",
    "        \n",
    "values = [10, 20, 30]\n",
    "myfn1(values)\n",
    "print()\n",
    "myfn2(values)"
   ]
  },
  {
   "cell_type": "markdown",
   "metadata": {},
   "source": [
    "#### <mark> Type your answer here </mark>\n",
    "\n",
    "### Are the two printed data types same? \n",
    "\n",
    "- Are the printed values are same? If not, why? \n",
    "***\n",
    "<p style = \"font-size: 22ppx; color : yellow;\">\n",
    "- NO, the two printed values are not the same. The first printed value is a type tuple that has a list element containing 3 integers.  The second printed value is a type list with 3 integer elements. \n",
    "</p>\n",
    "<p style = \"font-size: 22ppx; color : yellow;\">\n",
    "- myfn1() collects the position of the arbritary list argument values and packs it into a tuple with a single list elemenets. Since there is only 1 elements, the for-loop iterates once and prints the list [10, 20, 30]\n",
    "</p>\n",
    "<p style = \"font-size: 22ppx; color : yellow;\">\n",
    "- myfn2() keeps of the list argument as list type and the for loop iterates over the 3 elements and prints 10 20 30\n",
    "</p>"
   ]
  },
  {
   "cell_type": "markdown",
   "metadata": {},
   "source": [
    "## Unpacking Operator:\n",
    "\n",
    "### <mark> * </mark> is used to unpack elements from a list or tuple into separate variables or to pass multiple arguments to a function."
   ]
  },
  {
   "cell_type": "code",
   "execution_count": 13,
   "metadata": {},
   "outputs": [
    {
     "name": "stdout",
     "output_type": "stream",
     "text": [
      "[10, 20, 30]\n",
      "10 20 30\n"
     ]
    }
   ],
   "source": [
    "# check out the difference between two print statements\n",
    "numbers = [10, 20, 30]\n",
    "print (numbers)\n",
    "print (*numbers)\n"
   ]
  },
  {
   "cell_type": "markdown",
   "metadata": {},
   "source": [
    "***\n",
    "#### <p style=\"font-family: Arial; font-size:1.4em; background-color: yellow; color:black;\"> Problem #5.5 </p>\n",
    "\n",
    "####  Clarify the differences of the printed output between two functions \"myfn1\" and \"myfn2\" \n",
    "####  Answer in the below markdown cell. \n"
   ]
  },
  {
   "cell_type": "code",
   "execution_count": 14,
   "metadata": {},
   "outputs": [
    {
     "name": "stdout",
     "output_type": "stream",
     "text": [
      "10 20 30\n",
      "[10, 20, 30]\n",
      "10 20 30 \n"
     ]
    }
   ],
   "source": [
    "def myfn1(n1, n2, n3):\n",
    "    print (n1, n2, n3)\n",
    "\n",
    "def myfn2(val):\n",
    "    print (val)\n",
    "    for v in val:\n",
    "        print (v, end=' ')\n",
    "    print()\n",
    "\n",
    "numbers = [10, 20, 30]\n",
    "myfn1(*numbers)\n",
    "myfn2(numbers)"
   ]
  },
  {
   "cell_type": "markdown",
   "metadata": {},
   "source": [
    "#### <mark> Type your answer here </mark>\n",
    "\n",
    "### Are the two printed output same? \n",
    "\n",
    "- Are the printed values are same? If not, why?  <br>\n",
    "\n",
    "<p style= \"font-size: 22ppx; color: yellow;\">\n",
    "- No, the printed values are not the same.\n",
    "<p style= \"font-size: 22ppx; color: yellow;\">\n",
    "- For myfn1(), the list numbers is unpacked and each elements assigned to n1,n2,n3. For\n",
    "<p style= \"font-size: 22ppx; color: yellow;\">\n",
    "- For myfn2(), the argument val is a list where the elements are iterated in a for loop and printed out\n",
    "</p>\n",
    "\n",
    "- Is it possible to call function myfn1() ? Clarify your answer<br>  \n",
    "``` myfn1(numbers) ```\n",
    "<p style= \"font-size: 22ppx; color: yellow;\">\n",
    "- No, it is not possible to call myfn1(numbers) because it expects 3 arguments (n1,n2,n3) and numbers is only a single list.\n",
    "</p>\n",
    "\n",
    "- Is it possible to call function myfn2() ? Clarify your answer <br>\n",
    "``` myfn2(*numbers) ```\n",
    "<p style= \"font-size: 22ppx; color: yellow;\">\n",
    "- Yes, it is not possible to call myfn2(*numbers). The argument *number is a single list and val in myfn2 only expects a single argument.  print(val) will print the list [10, 20, 30] and the for loop will also print the elements of the list: 10 20 30\n",
    "</p>\n",
    "\n",
    "\n",
    "***"
   ]
  },
  {
   "cell_type": "markdown",
   "metadata": {},
   "source": [
    "***"
   ]
  },
  {
   "cell_type": "markdown",
   "metadata": {},
   "source": [
    "# Keyword Arguments (**args):\n",
    "```\n",
    "* is used to allow a function to accept an arbitrary number of positional arguments. \n",
    "```\n",
    "\n",
    "Basic Example"
   ]
  },
  {
   "cell_type": "markdown",
   "metadata": {},
   "source": [
    "***\n",
    "#### <p style=\"font-family: Arial; font-size:1.4em; background-color: yellow; color:black;\"> Problem #5.5 </p>\n",
    "\n",
    "####  Run the below code cell  \n",
    "####  Answer in the below markdown cell. \n"
   ]
  },
  {
   "cell_type": "markdown",
   "metadata": {},
   "source": [
    "### **kwargs\n",
    "## Run the following code and learn about the keyword argument"
   ]
  },
  {
   "cell_type": "code",
   "execution_count": 16,
   "metadata": {},
   "outputs": [
    {
     "name": "stdout",
     "output_type": "stream",
     "text": [
      "<class 'dict'> The type of kwargs\n",
      "True <--- If this is true, kwargs is a dictionary \n",
      "first -> California\n",
      "mid -> Community\n",
      "last -> College\n"
     ]
    }
   ],
   "source": [
    "def myFun(**kwargs): \n",
    "\tprint (type(kwargs), 'The type of kwargs')\n",
    "\tprint (isinstance(kwargs, dict), '<--- If this is true, kwargs is a dictionary ')\n",
    "\tfor key, value in kwargs.items():\n",
    "\t\tprint (\"%s -> %s\" %(key, value))\n",
    "\n",
    "\n",
    "myFun(first ='California', mid ='Community', last='College')\n"
   ]
  },
  {
   "cell_type": "markdown",
   "metadata": {},
   "source": [
    "\n",
    "-  What is the type of \"kwargs\" ? <br>\n",
    "-  Is it true \"isinstance(kwargs, dict) ?  <br>"
   ]
  },
  {
   "cell_type": "markdown",
   "metadata": {},
   "source": [
    "#### <mark> Type your answer here </mark>\n",
    "- \n",
    "<p style= \"font-size: 22ppx; color: yellow;\">\n",
    "- The type of kwargs is a dictionary.\n",
    "</p>\n",
    "\n",
    "<p style= \"font-size: 22ppx; color: yellow;\">\n",
    "- The statment \"isinstance(kwards,dict)?\" evaluates to True\n",
    "</p>\n",
    "\n",
    "\n",
    "-\n",
    "***"
   ]
  },
  {
   "cell_type": "markdown",
   "metadata": {},
   "source": [
    "#### <p style=\"font-family: Arial; font-size:1.4em; background-color: yellow; color:black;\"> Problem #5.6 </p>\n",
    "\n",
    "####  Call the function myFun( ) with the following code\n",
    "``` myFun(mid ='Community', last='College', first ='California') ```\n",
    "\n",
    "#### And explain the output. Was output printed from \"first\" key value or \"mid\" key value?\n"
   ]
  },
  {
   "cell_type": "code",
   "execution_count": 20,
   "metadata": {},
   "outputs": [
    {
     "name": "stdout",
     "output_type": "stream",
     "text": [
      "mid -> Community\n",
      "last -> Colleg\n",
      "first -> California\n"
     ]
    }
   ],
   "source": [
    "def myFun(**kwargs): \n",
    "\tfor key, value in kwargs.items():\n",
    "\t\tprint (\"%s -> %s\" %(key, value))\n",
    "\n",
    "#myFun( # Complete yout code )\n",
    "myFun(mid = 'Community', last = 'College', first = 'California')\n"
   ]
  },
  {
   "cell_type": "markdown",
   "metadata": {},
   "source": [
    "#### <mark> Type your answer here </mark>\n",
    "- \n",
    "<p style= \"font-size: 22ppx; color: yellow;\">\n",
    "- The function myFun() accepts any key word argument (**kwargs) and passes them in the form key value pairs.  Inside the function, kwargs.items() retrieves these key-value pairs, and the for loop iterates over them to print the key and its associated value.The output was printed is the sequence: mid -> Community first, last -> College next, and first -> California last.  Python printed the key-value pairs in the order the arguments were passed\n",
    "</p>\n",
    "\n",
    "-\n",
    "***"
   ]
  },
  {
   "cell_type": "markdown",
   "metadata": {},
   "source": [
    "## Call function with the single value and keyword argument\n",
    "```\n",
    "myFun( normalvalue, **keyword_argument)\n",
    "```"
   ]
  },
  {
   "cell_type": "code",
   "execution_count": 21,
   "metadata": {},
   "outputs": [
    {
     "name": "stdout",
     "output_type": "stream",
     "text": [
      "Apple\n",
      "mid -> Pear\n",
      "last -> Orange\n",
      "Apple\n",
      "mid -> Pear\n",
      "last -> Orange\n"
     ]
    }
   ],
   "source": [
    "def myFun(first, **kwargs):\n",
    "\tprint (first)\n",
    "\tfor key, value in kwargs.items():\n",
    "\t\tprint (\"%s -> %s\" %(key, value))\n",
    "\n",
    "# call myfun() with separate key=value pairs\n",
    "myFun('Apple', mid ='Pear', last='Orange')\n",
    "\n",
    "# Or\n",
    "kwargs = {'mid':'Pear', 'last':'Orange'}\n",
    "myFun('Apple',**kwargs)\n",
    "\n"
   ]
  },
  {
   "cell_type": "markdown",
   "metadata": {},
   "source": [
    "#### <p style=\"font-family: Arial; font-size:1.4em; background-color: yellow; color:black;\"> Problem #5.7 </p>\n",
    "\n",
    "####  Call the function myFun( ) with the following code\n",
    "```\n",
    "\t# Call 1\n",
    "\tmyFun(\"Java\", \"C++\", \"Python\")\n",
    "\tmyFun(arg2=\"C++\", arg3=\"Python\", arg1=\"Java\")\n",
    "\n",
    "\t# Call 2\n",
    "\targs = (\"Java\", \"C++\", \"Python\")\n",
    "\tmyFun(*args)\n",
    "\n",
    "\t# Call 3\n",
    "\tkwargs = {\"arg1\" : \"Java\", \"arg2\" : \"C++\", \"arg3\" : \"Python\"}\n",
    "\tmyFun(**kwargs)\n",
    "```\n",
    "#### And explain the output. All outputs are same? \n"
   ]
  },
  {
   "cell_type": "markdown",
   "metadata": {},
   "source": [
    "## Call function(a, b, c) with \n",
    "- normal value argument: -----   function(arg1, arg2, arg3)\n",
    "- arbitrary argument:-----       function(*args)\n",
    "- keyword argument:-----         function(**kargs)\n",
    "```\n",
    "def myFun( a, b, c):\n",
    "```"
   ]
  },
  {
   "cell_type": "code",
   "execution_count": 22,
   "metadata": {},
   "outputs": [
    {
     "name": "stdout",
     "output_type": "stream",
     "text": [
      "arg1: Java\targ2: C++\targ3: Python\n",
      "arg1: Java\targ2: C++\targ3: Python\n",
      "arg1: Java\targ2: C++\targ3: Python\n",
      "arg1: Java\targ2: C++\targ3: Python\n"
     ]
    }
   ],
   "source": [
    "def myFun(arg1, arg2, arg3):\n",
    "\tprint(\"arg1:\", arg1, end='\\t')\n",
    "\tprint(\"arg2:\", arg2, end='\\t')\n",
    "\tprint(\"arg3:\", arg3, end='\\n')\n",
    "\n",
    "def main():\t\n",
    "\t# Call 1\n",
    "\tmyFun(\"Java\", \"C++\", \"Python\")\n",
    "\tmyFun(arg2=\"C++\", arg3=\"Python\", arg1=\"Java\")\n",
    "\n",
    "\t# Call 2\n",
    "\targs = (\"Java\", \"C++\", \"Python\")\n",
    "\tmyFun(*args)\n",
    "\t# Call 3\n",
    "\tkwargs = {\"arg1\" : \"Java\", \"arg2\" : \"C++\", \"arg3\" : \"Python\"}\n",
    "\tmyFun(**kwargs)\n",
    "\n",
    "\n",
    "if __name__ == '__main__':\n",
    "    main()\n",
    "    "
   ]
  },
  {
   "cell_type": "markdown",
   "metadata": {},
   "source": [
    "#### <mark> Type your answer here </mark>\n",
    "\n",
    "### All the output are same? Why? Explain it.\n",
    "\n",
    "<p style= \"font-size: 22ppx; color: yellow;\">\n",
    "- Yes, all output from the 3 function call are the same\n",
    "</p>\n",
    "<p style= \"font-size: 22ppx; color: yellow;\">\n",
    "- for Call 1 (first one), the values passed (Java, C++, Python) matched the expected order of the arguments (arg1, arg2, arg3) in the function.\n",
    "</p>\n",
    "<p style= \"font-size: 22ppx; color: yellow;\">\n",
    "- for Call 1 (second one), the values passed are directly assigned to the matching parameter names in the function call arguments. This is then passed to the myFun whose argument names will matches be matched with their respective  parameter names then prints them in the required order\n",
    "</p>\n",
    "<p style= \"font-size: 22ppx; color: yellow;\">\n",
    "- for Call 2, the tuple args is passed as an arbitrary argument then unpacked by (*args). It then passes each value to the corresponding argument in the function myFun(arg1, arg2, arg3).\n",
    "</p>\n",
    "<p style= \"font-size: 22ppx; color: yellow;\">\n",
    "- for Call 3, the dictionary is passed as an keyword argument then unpacked by (**kwargs). It then passes each value to the corresponding argument in the function myFun(arg1, arg2, arg3).\n",
    "</p>\n",
    "\n",
    "***"
   ]
  },
  {
   "cell_type": "markdown",
   "metadata": {},
   "source": [
    "## Other usefule expressions with arbitarary argument \n",
    "\n",
    "#### Run the followig code cells and learn the arbitrary argument"
   ]
  },
  {
   "cell_type": "markdown",
   "metadata": {},
   "source": [
    "<style>\n",
    "\tp {\n",
    "\t\t--background-color: grey;\n",
    "\t\tcolor: white;\n",
    "\t\tborder: 3px solid grey\n",
    "\n",
    "\t}\n",
    "</style>\n",
    "\n",
    "<p> Using the arbitrary arguments to save the returned value</p>\n",
    "\n"
   ]
  },
  {
   "cell_type": "code",
   "execution_count": 2,
   "metadata": {},
   "outputs": [
    {
     "name": "stdout",
     "output_type": "stream",
     "text": [
      "2\n",
      "10\n",
      "[4, 6, 8]\n"
     ]
    }
   ],
   "source": [
    "def retEven(lst):\n",
    "\tevenlst = []\n",
    "\tfor v in lst:\n",
    "\t\tif v % 2 == 0:\n",
    "\t\t\tevenlst.append(v)\n",
    "\treturn evenlst\n",
    "\n",
    "lst = [1,2,3,4,5,6,7,8,9,10]\n",
    "first, *others, last = retEven(lst)\n",
    "print (first)\n",
    "print (last)\n",
    "print (others)\n"
   ]
  },
  {
   "cell_type": "markdown",
   "metadata": {},
   "source": [
    "<style>\n",
    "\th1 {\n",
    "\t\tbackground-color: grey;\n",
    "\t\tcolor: Yellow;\n",
    "\t\tborder: 3px solid grey;\n",
    "\t\t-- font-size: xx-large; \n",
    "\t}\n",
    "\tp {\n",
    "\t\tbackground-color: grey;\n",
    "\t\tcolor: white;\n",
    "\t\tborder: 3px solid grey;\n",
    "\t\tfont-size: xx-large\n",
    "\t}\n",
    "</style>\n",
    "<p> Example: *args </p>\n"
   ]
  },
  {
   "cell_type": "code",
   "execution_count": 25,
   "metadata": {},
   "outputs": [
    {
     "name": "stdout",
     "output_type": "stream",
     "text": [
      "('Python Programming',)\n",
      "The value v is  Python Programming \tThe type of v is  <class 'str'>\n",
      "\n",
      "([1, 2, 3, 4, 5],)\n",
      "The value v is  [1, 2, 3, 4, 5] \tThe type of v is  <class 'list'>\n",
      "\n",
      "(1, 2, 3, 4, 5)\n",
      "The value v is  1 \tThe type of v is  <class 'int'>\n",
      "The value v is  2 \tThe type of v is  <class 'int'>\n",
      "The value v is  3 \tThe type of v is  <class 'int'>\n",
      "The value v is  4 \tThe type of v is  <class 'int'>\n",
      "The value v is  5 \tThe type of v is  <class 'int'>\n",
      "\n"
     ]
    }
   ],
   "source": [
    "\n",
    "def printstring(*string):\n",
    "\tprint (string)\n",
    "\tfor v in string:\n",
    "\t\tprint ('The value v is ', v, '\\tThe type of v is ', type(v) )\n",
    "\n",
    "\tprint ()\n",
    "\n",
    "stringvalue = \"Python Programming\"\n",
    "printstring(stringvalue)\n",
    "\n",
    "integerlist = [1,2,3,4,5]\n",
    "printstring(integerlist)\n",
    "\n",
    "printstring(1,2,3,4,5)"
   ]
  },
  {
   "cell_type": "markdown",
   "metadata": {},
   "source": [
    "## Please <font color='red'> **\"commit\"** </font> your work or <font color='red'> **\"save\"** </font> in Google Colab\n",
    "## before moving to the next section."
   ]
  },
  {
   "cell_type": "markdown",
   "metadata": {},
   "source": [
    "***\n",
    "# <p style=\"background-color: grey; color: white \"> ◼️  Section 6 </p>\n",
    "# <p style=\"font-family: Arial; font-size:1.4em;color:red;\"> 6. Yield </p>\n"
   ]
  },
  {
   "cell_type": "markdown",
   "metadata": {},
   "source": [
    "<style>\n",
    "\th1 {\n",
    "\t\tbackground-color: grey;\n",
    "\t\tcolor: Yellow;\n",
    "\t\tborder: 3px solid grey;\n",
    "\t\t-- font-size: xx-large; \n",
    "\t}\n",
    "\tp {\n",
    "\t\tbackground-color: grey;\n",
    "\t\tcolor: white;\n",
    "\t\tborder: 3px solid grey;\n",
    "\t}\n",
    "</style>\n",
    "<h1 font-size:40px> 6.1 iterator </h1>\n",
    "\n"
   ]
  },
  {
   "cell_type": "markdown",
   "metadata": {},
   "source": [
    "## Understanding Iterator \n",
    "\n",
    "#### Run the followig code cells and learn the Iterator concept "
   ]
  },
  {
   "cell_type": "markdown",
   "metadata": {},
   "source": [
    "<style>\n",
    "\th3 {\n",
    "\t\tbackground-color: black;\n",
    "\t\tcolor: white;\n",
    "\t\tborder: 1px solid grey;\n",
    "\t\tfont-size: 30px;\n",
    "\t}\n",
    "\tp {\n",
    "\t\tbackground-color: #336666;\n",
    "\t\tcolor: white;\n",
    "\t\tborder: 1px solid grey;\n",
    "\t\tfont-size: 24;\n",
    "\t}\n",
    "</style>\n",
    "\n",
    "<h3> Iterator </h3> \n",
    "<p>\n",
    "\n",
    "An iterator in Python is an object that enables you to traverse through a collection of elements, such as a list, tuple, or dictionary, one element at a time. It implements two main methods:\n",
    "```\n",
    "__iter__(): Returns the iterator object itself. This is required for an object to be an iterator.\n",
    "__next__(): Returns the next item from the collection. When there are no more items, it raises a StopIteration exception.\n",
    "```\n",
    "</p>"
   ]
  },
  {
   "cell_type": "markdown",
   "metadata": {},
   "source": [
    "#### <p style=\"font-family: Arial; font-size:1.4em; background-color: yellow; color:black;\"> Problem #6.1 </p>\n",
    "\n",
    "<style>\n",
    "\tp {\n",
    "\t\tbackground-color: black;\n",
    "\t\tcolor: white;\n",
    "\t\tborder: 1px solid grey;\n",
    "\t\tfont-size: 30px;\n",
    "\t}\n",
    "</style>\n",
    "<p> Run the following code cells and answer the questions </p>  \n"
   ]
  },
  {
   "cell_type": "markdown",
   "metadata": {},
   "source": [
    "#### What is the type of \"myiter\"? \n",
    "- Your answer: 👉\n",
    "<p style = \"font-size: 22ppx; color : yellow;\">\n",
    "- myiter type is a list_iterator\n",
    "</p>"
   ]
  },
  {
   "cell_type": "code",
   "execution_count": 26,
   "metadata": {},
   "outputs": [
    {
     "data": {
      "text/plain": [
       "list_iterator"
      ]
     },
     "execution_count": 26,
     "metadata": {},
     "output_type": "execute_result"
    }
   ],
   "source": [
    "mylst = [10, 20, 30]\n",
    "myiter = iter(mylst)\n",
    "\n",
    "type(myiter)"
   ]
  },
  {
   "cell_type": "markdown",
   "metadata": {},
   "source": [
    "#### What is the result of the following code?\n",
    "``` myiter.__next__() ``` \n",
    "- Your answer: Here 👉\n",
    "<p style = \"font-size: 22ppx; color : yellow;\">\n",
    "- myiter._next_() = 10\n",
    "</p>"
   ]
  },
  {
   "cell_type": "code",
   "execution_count": 27,
   "metadata": {},
   "outputs": [
    {
     "data": {
      "text/plain": [
       "10"
      ]
     },
     "execution_count": 27,
     "metadata": {},
     "output_type": "execute_result"
    }
   ],
   "source": [
    "myiter.__next__()"
   ]
  },
  {
   "cell_type": "markdown",
   "metadata": {},
   "source": [
    "#### What is the result of the following code? \n",
    "``` \n",
    "    myiter.__next__()  \n",
    "    myiter.__next__() \n",
    "``` \n",
    "- Your answer: Here 👉 \n",
    "<p style = \"font-size: 22ppx; color : yellow;\">\n",
    "- myiter._next_() = 20\n",
    "<p style = \"font-size: 22ppx; color : yellow;\">\n",
    "- myiter._next_() = 30\n",
    "</p>"
   ]
  },
  {
   "cell_type": "code",
   "execution_count": 28,
   "metadata": {},
   "outputs": [
    {
     "name": "stdout",
     "output_type": "stream",
     "text": [
      "20\n",
      "30\n"
     ]
    }
   ],
   "source": [
    "print (myiter.__next__())\n",
    "print (myiter.__next__())"
   ]
  },
  {
   "cell_type": "markdown",
   "metadata": {},
   "source": [
    "#### If you run this code one more, you will see error. Show the error message. Why does it cause an error? \n",
    "``` \n",
    "    myiter.__next__()  \n",
    "``` \n",
    "- Your answer: Here  👉\n",
    "<p style = \"font-size: 22ppx; color : yellow;\">\n",
    "Error code: StopIteration                             Traceback (most recent call last)\n",
    "<p style = \"font-size: 22ppx; color : yellow;\">\n",
    "Cell In[29], line 1\n",
    "<p style = \"font-size: 22ppx; color : yellow;\">\n",
    "----> 1 print (myiter.__next__())\n",
    "<p style = \"font-size: 22ppx; color : yellow;\">\n",
    "StopIteration: \n",
    "<p style = \"font-size: 22ppx; color : yellow;\">\n",
    "The error code happens because the iteration is trying to iterate more than the number of elements on the list\n",
    "</p>"
   ]
  },
  {
   "cell_type": "code",
   "execution_count": 29,
   "metadata": {},
   "outputs": [
    {
     "ename": "StopIteration",
     "evalue": "",
     "output_type": "error",
     "traceback": [
      "\u001b[1;31m---------------------------------------------------------------------------\u001b[0m",
      "\u001b[1;31mStopIteration\u001b[0m                             Traceback (most recent call last)",
      "Cell \u001b[1;32mIn[29], line 1\u001b[0m\n\u001b[1;32m----> 1\u001b[0m \u001b[38;5;28mprint\u001b[39m (myiter\u001b[38;5;241m.\u001b[39m\u001b[38;5;21m__next__\u001b[39m())\n",
      "\u001b[1;31mStopIteration\u001b[0m: "
     ]
    }
   ],
   "source": [
    "print (myiter.__next__())"
   ]
  },
  {
   "cell_type": "markdown",
   "metadata": {},
   "source": [
    "#### next() function is the same as ``` __next__() ``` \n",
    "```\n",
    "    iter_obj = iter(mylst)\n",
    "    next(iter_obj) \n",
    "``` "
   ]
  },
  {
   "cell_type": "code",
   "execution_count": 30,
   "metadata": {},
   "outputs": [
    {
     "name": "stdout",
     "output_type": "stream",
     "text": [
      "1\n",
      "2\n",
      "3\n"
     ]
    }
   ],
   "source": [
    "mylst = [1,2,3]\n",
    "itobj= iter(mylst)\n",
    "print (next(itobj))\n",
    "print (next(itobj))\n",
    "print (next(itobj))"
   ]
  },
  {
   "cell_type": "markdown",
   "metadata": {},
   "source": [
    "***\n",
    "#### <p style=\"font-family: Arial; font-size:1.4em; background-color: yellow; color:black;\"> Problem #6.2: Loop Structures with Iterator </p>\n",
    "\n",
    "<style>\n",
    "\tp {\n",
    "\t\tbackground-color: black;\n",
    "\t\tcolor: white;\n",
    "\t\tborder: 1px solid grey;\n",
    "\t\tfont-size: 30px;\n",
    "\t}\n",
    "</style>\n",
    "<p> Run the following code cells and answer the questions </p>  \n"
   ]
  },
  {
   "cell_type": "markdown",
   "metadata": {},
   "source": [
    "#### Compare two loop structures with iterator, for loop and while loop."
   ]
  },
  {
   "cell_type": "markdown",
   "metadata": {},
   "source": [
    "<style>\n",
    "\th5 {\n",
    "\t\tbackground-color: black;\n",
    "\t\tcolor: white;\n",
    "\t\tborder: 1px solid grey;\n",
    "\t\tfont-size: 30px;\n",
    "\t}\n",
    "\tp {\n",
    "\t\tbackground-color: #336666;\n",
    "\t\tcolor: white;\n",
    "\t\tborder: 1px solid grey;\n",
    "\t\tfont-size: 24;\n",
    "\t}\n",
    "</style>\n",
    "##### for loop\n",
    "<p>\n",
    "Using Iterators in Loops <br>\n",
    "Most commonly, you use iterators in a for loop, which automatically handles the StopIteration exception:\n",
    "</p>"
   ]
  },
  {
   "cell_type": "code",
   "execution_count": 31,
   "metadata": {},
   "outputs": [
    {
     "name": "stdout",
     "output_type": "stream",
     "text": [
      "10\t20\t30\t"
     ]
    }
   ],
   "source": [
    "mylst = [10, 20 , 30]\n",
    "myiter = iter(mylst)\n",
    "for v in myiter:\n",
    "    print (v, end='\\t')"
   ]
  },
  {
   "cell_type": "markdown",
   "metadata": {},
   "source": [
    "<style>\n",
    "\th5 {\n",
    "\t\tbackground-color: black;\n",
    "\t\tcolor: white;\n",
    "\t\tborder: 1px solid grey;\n",
    "\t\tfont-size: 30px;\n",
    "\t}\n",
    "\tp {\n",
    "\t\tbackground-color: #336666;\n",
    "\t\tcolor: white;\n",
    "\t\tborder: 1px solid grey;\n",
    "\t\tfont-size: 24;\n",
    "\t}\n",
    "</style>\n",
    "##### while loop"
   ]
  },
  {
   "cell_type": "code",
   "execution_count": 59,
   "metadata": {},
   "outputs": [
    {
     "name": "stdout",
     "output_type": "stream",
     "text": [
      "10\t20\t30\t"
     ]
    }
   ],
   "source": [
    "mylst = [10, 20, 30]\n",
    "iter_obj = iter(mylst)\n",
    "while True: \n",
    "    try:\n",
    "        print (next(iter_obj), end= '\\t')\n",
    "    except StopIteration:\n",
    "        break\n"
   ]
  },
  {
   "cell_type": "markdown",
   "metadata": {},
   "source": [
    "### Compare two loop structures. What is the difference between two loops to use the iterator for traversing all the elements in the list?\n",
    "#### Your Answer: Here 👉 \n",
    "\n",
    "<p style = \"font-size: 22ppx; color : yellow;\">\n",
    "- In the for loop, the iterator function creates an iterator object that automatically handles the iteraton through the list elements calling the next() function for each loop. It will also catch the StopIteration exception after the last iteration loop.\n",
    "</p>\n",
    "<p style = \"font-size: 22ppx; color : yellow;\">\n",
    "- In the while loop, the iterator function creates an iterator object, however, the iteration through the list elements is handled manually with the while (True) condition. Thethe next(iter_obj) function is called  for each loop. A try-except block is added in order to catch StopIteration exception after the last iteration loop.\n",
    "</p>"
   ]
  },
  {
   "cell_type": "markdown",
   "metadata": {},
   "source": [
    "***"
   ]
  },
  {
   "cell_type": "markdown",
   "metadata": {},
   "source": [
    "<style>\n",
    "\th1 {\n",
    "\t\tbackground-color: grey;\n",
    "\t\tcolor: Yellow;\n",
    "\t\tborder: 3px solid grey;\n",
    "\t\tfont-size: xx-large; \n",
    "\t}\n",
    "\tp {\n",
    "\t\tbackground-color: grey;\n",
    "\t\tcolor: white;\n",
    "\t\tfont-size: 24px;\n",
    "\t\tborder: 3px solid grey;\n",
    "\t}\n",
    "</style>\n",
    "# <h1 font-size:40px> 6.2 Generator </h1>\n",
    "\n",
    "\n",
    "## Concepts of Generator \n",
    "<p>\n",
    "A generator in Python is a special type of iterator that allows you to iterate over a sequence of values lazily, meaning it generates values on the fly and only when needed. <br> This makes generators memory-efficient, especially when dealing with large datasets, because they do not require all the values to be stored in memory at once.\n",
    "</p>"
   ]
  },
  {
   "cell_type": "markdown",
   "metadata": {},
   "source": [
    "***\n",
    "#### <p style=\"font-family: Arial; font-size:1.4em; background-color: yellow; color:black;\"> Problem #6.3 </p>\n",
    "\n",
    "<style>\n",
    "\tp {\n",
    "\t\tbackground-color: black;\n",
    "\t\tcolor: white;\n",
    "\t\tborder: 1px solid grey;\n",
    "\t\tfont-size: 30px;\n",
    "\t}\n",
    "</style>\n",
    "<p> Run the following code cells and answer the questions </p>  \n"
   ]
  },
  {
   "cell_type": "markdown",
   "metadata": {},
   "source": [
    "#### Run this code and check out the output. Show the type of \"gen\"\n",
    "```\n",
    "def mygen():\n",
    "    yield 1\n",
    "\n",
    "gen = mygen()\n",
    "print (type(gen))\n",
    "```\n",
    "##### Your answer: Here 👉\n",
    "\n",
    "<p style = \"font-size: 22ppx; color : yellow;\">\n",
    "- The type of 'gen' is a generator\n",
    "</p>\n",
    "***"
   ]
  },
  {
   "cell_type": "code",
   "execution_count": 33,
   "metadata": {},
   "outputs": [
    {
     "name": "stdout",
     "output_type": "stream",
     "text": [
      "<class 'generator'>\n"
     ]
    }
   ],
   "source": [
    "def mygen():\n",
    "    yield 1\n",
    "\n",
    "gen = mygen()\n",
    "print (type(gen))"
   ]
  },
  {
   "cell_type": "markdown",
   "metadata": {},
   "source": [
    "#### Run this code and check out the output. What are the value from \"next(gen)\"? \n",
    "```\n",
    "def mygen():\n",
    "    yield 10\n",
    "    yield 20\n",
    "    yield 30\n",
    "\n",
    "gen = mygen()\n",
    "print (next(gen))\n",
    "print (next(gen))\n",
    "print (next(gen))\n",
    "```\n",
    "##### Your answer: Here 👉\n",
    "\n",
    "<p style = \"font-size: 22ppx; color : yellow;\">\n",
    "- The values of next(gen) are : <br>\n",
    "10 <br>\n",
    "20 <br>\n",
    "30 \n",
    "</p>\n",
    "***"
   ]
  },
  {
   "cell_type": "code",
   "execution_count": 1,
   "metadata": {},
   "outputs": [
    {
     "name": "stdout",
     "output_type": "stream",
     "text": [
      "10\n",
      "20\n",
      "30\n"
     ]
    }
   ],
   "source": [
    "def mygen():\n",
    "    yield 10\n",
    "    yield 20\n",
    "    yield 30\n",
    "\n",
    "gen = mygen()\n",
    "print (next(gen))\n",
    "print (next(gen))\n",
    "print (next(gen))\n"
   ]
  },
  {
   "cell_type": "markdown",
   "metadata": {},
   "source": [
    "#### Run this code and check out the output. What are the value from \"next(gen)\"? \n",
    "```\n",
    "def mygen():\n",
    "    yield 10\n",
    "    yield 20\n",
    "    yield 30\n",
    "\n",
    "gen = mygen()\n",
    "for v in gen:\n",
    "    print (v, end='\\t')\n",
    "```\n",
    "##### Your answer: Here 👉\n",
    "<p style = \"font-size: 22ppx; color : yellow;\">\n",
    "- The values of \"next(gen)\" are 10 20 30\n",
    "</p>\n",
    "\n",
    "***"
   ]
  },
  {
   "cell_type": "code",
   "execution_count": 35,
   "metadata": {},
   "outputs": [
    {
     "name": "stdout",
     "output_type": "stream",
     "text": [
      "10\t20\t30\t"
     ]
    }
   ],
   "source": [
    "def mygen():\n",
    "    yield 10\n",
    "    yield 20\n",
    "    yield 30\n",
    "\n",
    "gen = mygen()\n",
    "for v in gen:\n",
    "    print (v, end='\\t')"
   ]
  },
  {
   "cell_type": "markdown",
   "metadata": {},
   "source": [
    "#### Run this code and check out the output. What is the value of the last next(gen) ? \n",
    "```\n",
    "def mygen():\n",
    "    yield 10\n",
    "    yield 20\n",
    "    yield 30\n",
    "\n",
    "gen = mygen()\n",
    "while True:\n",
    "    try:\n",
    "        print (next(gen))\n",
    "    except StopIteration:\n",
    "        break\n",
    "```\n",
    "##### Your answer: Here 👉\n",
    "\n",
    "<p style = \"font-size: 22ppx; color : yellow;\">\n",
    "- The values of \"next(gen)\" are  <br> 10 <br>20 <br>30\n",
    "</p>\n",
    "\n",
    "***"
   ]
  },
  {
   "cell_type": "code",
   "execution_count": 36,
   "metadata": {},
   "outputs": [
    {
     "name": "stdout",
     "output_type": "stream",
     "text": [
      "10\n",
      "20\n",
      "30\n"
     ]
    }
   ],
   "source": [
    "def mygen():\n",
    "    yield 10\n",
    "    yield 20\n",
    "    yield 30\n",
    "\n",
    "gen = mygen()\n",
    "while True:\n",
    "    try:\n",
    "        print (next(gen))\n",
    "    except StopIteration:\n",
    "        break"
   ]
  },
  {
   "cell_type": "markdown",
   "metadata": {},
   "source": [
    "<style>\n",
    "\th1 {\n",
    "\t\tbackground-color: grey;\n",
    "\t\tcolor: Yellow;\n",
    "\t\tborder: 3px solid grey;\n",
    "\t\tfont-size: xx-large; \n",
    "\t}\n",
    "\tp {\n",
    "\t\tbackground-color: grey;\n",
    "\t\tcolor: white;\n",
    "\t\tfont-size: 24px;\n",
    "\t\tborder: 3px solid grey;\n",
    "\t}\n",
    "</style>\n",
    "# <h1 font-size:40px> 6.3 yield </h1>\n",
    "\n",
    "\n",
    "## yield statement \n",
    "<p>\n",
    "yield is a keyword used in a function to turn it into a generator. When a function contains a yield statement, it does not execute like a normal function. Instead, it returns a generator object that can be iterated over. \n",
    "</p>"
   ]
  },
  {
   "cell_type": "markdown",
   "metadata": {},
   "source": [
    "***\n",
    "#### <p style=\"font-family: Arial; font-size:1.4em; background-color: yellow; color:black;\"> Problem #6.4 </p>\n",
    "\n",
    "<style>\n",
    "\tp {\n",
    "\t\tbackground-color: black;\n",
    "\t\tcolor: white;\n",
    "\t\tborder: 1px solid grey;\n",
    "\t\tfont-size: 30px;\n",
    "\t}\n",
    "</style>\n",
    "<p> Run the following code cells and answer the questions </p>  \n"
   ]
  },
  {
   "cell_type": "markdown",
   "metadata": {},
   "source": [
    "<style>\n",
    "\tp {\n",
    "\t\t--background-color: grey;\n",
    "\t\tcolor: white;\n",
    "\t\tborder: 3px solid grey\n",
    "\n",
    "\t}\n",
    "</style>\n",
    "\n",
    "<p> Example of yield statement </p>\n",
    "<p> Make a function to return the even number in the list </p>\n",
    "\n"
   ]
  },
  {
   "cell_type": "code",
   "execution_count": 37,
   "metadata": {},
   "outputs": [
    {
     "name": "stdout",
     "output_type": "stream",
     "text": [
      "0 --\n",
      "2\n",
      "4\n",
      "6\n",
      "8\n"
     ]
    }
   ],
   "source": [
    "def findEvenNumber(lst):\n",
    "\tfor v in lst:\n",
    "\t\tif ( v % 2 == 0):\n",
    "\t\t\tyield v\n",
    "\n",
    "def main():\n",
    "\tmygen = findEvenNumber(range(10))\n",
    "\tval = next(mygen)\n",
    "\tprint (val, '--')\n",
    "\tfor val in mygen:\n",
    "\t\tprint (val)\n",
    "\n",
    "if __name__ == '__main__':\n",
    "\tmain()"
   ]
  },
  {
   "cell_type": "markdown",
   "metadata": {},
   "source": [
    "<style>\n",
    "\tp {\n",
    "\t\t--background-color: grey;\n",
    "\t\tcolor: white;\n",
    "\t\tborder: 3px solid grey\n",
    "\n",
    "\t}\n",
    "</style>\n",
    "\n",
    "<p> Make a function to return the generator for the Fibonacci number </p> \n",
    "\n"
   ]
  },
  {
   "cell_type": "code",
   "execution_count": 41,
   "metadata": {},
   "outputs": [
    {
     "name": "stdout",
     "output_type": "stream",
     "text": [
      "0\n",
      "1\n"
     ]
    }
   ],
   "source": [
    "\n",
    "def fibo(N):\n",
    "\tn1, n2 = 0, 1\n",
    "\ti = 0\n",
    "\twhile ( i <= N):\n",
    "\t\tyield n1\n",
    "\t\tn3 = n1 + n2\n",
    "\t\tn1 = n2\t\n",
    "\t\tn2 = n3\n",
    "\t\ti += 1\n",
    "\n",
    "gen = fibo(1)\n",
    "for v in gen:\n",
    "\tprint (v)\n"
   ]
  },
  {
   "cell_type": "markdown",
   "metadata": {},
   "source": [
    "<style>\n",
    "\th1 {\n",
    "\t\tbackground-color: grey;\n",
    "\t\tcolor: Yellow;\n",
    "\t\tborder: 3px solid grey;\n",
    "\t\t-- font-size: xx-large; \n",
    "\t}\n",
    "\tp {\n",
    "\t\tbackground-color: grey;\n",
    "\t\tcolor: white;\n",
    "\t\tborder: 3px solid grey;\n",
    "\t\tfont-size: xx-large\n",
    "\t}\n",
    "</style>\n",
    "<p> Example: yield </p>\n"
   ]
  },
  {
   "cell_type": "code",
   "execution_count": 39,
   "metadata": {},
   "outputs": [
    {
     "name": "stdout",
     "output_type": "stream",
     "text": [
      "P, y, t, h, n,  , P, r, g, r, m, m, n, g, "
     ]
    }
   ],
   "source": [
    "\n",
    "def consonant(string):\n",
    "\tvowels = ['a', 'e', 'i','o', 'u']\n",
    "\tfor v in string:\n",
    "\t\tif v not in vowels:\n",
    "\t\t\tyield v\n",
    "\n",
    "\n",
    "strval = 'Python Programming'\n",
    "for v in consonant(strval):\n",
    "\tprint (v, end=', ' )"
   ]
  },
  {
   "cell_type": "markdown",
   "metadata": {},
   "source": [
    "<style>\n",
    "\tp {\n",
    "\t\tbackground-color: black;\n",
    "\t\tcolor: white;\n",
    "\t\tborder: 1px solid grey;\n",
    "\t\tfont-size: 30px;\n",
    "\t}\n",
    "</style>\n",
    "#### <p style=\"font-family: Arial; font-size:1.4em; background-color: yellow; color:black;\"> Problem #6.5 </p>\n",
    "\n",
    "<p> Make a function to return the generator containing the first half of the list \n"
   ]
  },
  {
   "cell_type": "code",
   "execution_count": 43,
   "metadata": {},
   "outputs": [
    {
     "name": "stdout",
     "output_type": "stream",
     "text": [
      "1\t2\t3\t4\t5\t"
     ]
    }
   ],
   "source": [
    "def halfoflist(mylst):\n",
    "    # complete your code\n",
    "    # return the generator that contains the first half of the list\n",
    "    for v in mylst:\n",
    "        if v <= len(mylst)/2:\n",
    "            yield v\n",
    "\n",
    "def main():\n",
    "    numbers = [1,2,3,4,5,6,7,8,9,10]\n",
    "    mygen = halfoflist(numbers)\n",
    "\n",
    "    for v in mygen:\n",
    "        print (v, end ='\\t')\n",
    "   \n",
    "if __name__ == '__main__':\n",
    "    main()\n"
   ]
  },
  {
   "cell_type": "markdown",
   "metadata": {},
   "source": [
    "***\n",
    "#### <p style=\"font-family: Arial; font-size:1.4em; background-color: yellow; color:black;\"> Problem #6.6 </p>\n",
    "\n",
    "<style>\n",
    "\tp {\n",
    "\t\tbackground-color: black;\n",
    "\t\tcolor: white;\n",
    "\t\tborder: 1px solid grey;\n",
    "\t\tfont-size: 30px;\n",
    "\t}\n",
    "</style>\n",
    "<p> Make a function that returns the generator containing elements greater than their immediate left. </p>\n",
    "- Example numbers = [1, 3, 2, 4, 5, 0] <br>\n",
    "- Generator for [3,4,5]\n"
   ]
  },
  {
   "cell_type": "code",
   "execution_count": 56,
   "metadata": {},
   "outputs": [
    {
     "name": "stdout",
     "output_type": "stream",
     "text": [
      "3\t4\t5\t"
     ]
    }
   ],
   "source": [
    "### Code your program here\n",
    "\n",
    "def greaterthanleft(mylst): #function that returns the generator containing elements greater than their immediate left\n",
    "    for i in range(len(mylst)-1):\n",
    "        if mylst[i+1] > mylst[i]:\n",
    "            yield mylst[i+1]\n",
    "\n",
    "def main():\n",
    "    number = [1,3,2,4,5,0]\n",
    "    mygen = greaterthanleft(number)\n",
    "    for v in mygen:\n",
    "        print (v, end='\\t')\n",
    "\n",
    "if __name__ == '__main__':\n",
    "    main()"
   ]
  },
  {
   "cell_type": "markdown",
   "metadata": {},
   "source": [
    "<style>\n",
    "\th1 {\n",
    "\t\tbackground-color: grey;\n",
    "\t\tcolor: Yellow;\n",
    "\t\tborder: 3px solid grey;\n",
    "\t\tfont-size: 60px; \n",
    "\t}\n",
    "\tp {\n",
    "\t\tbackground-color: grey;\n",
    "\t\tcolor: white;\n",
    "\t\tfont-size: 20px;\n",
    "\t\tborder: 3px solid grey;\n",
    "\t}\n",
    "</style>\n",
    "# <h1 font-size:60px> 6.4 lambda </h1>\n",
    "\n",
    "\n",
    "## Lambda Function \n",
    "<p>\n",
    "A lambda function in Python is a small, anonymous function defined with the lambda keyword. Unlike a regular function that is defined using the def keyword, a lambda function can have any number of arguments but only one expression. The result of that expression is implicitly returned.\n",
    "</p>\n",
    "\n",
    "Syntax <br>\n",
    "<code> \n",
    "lambda arguments: expression <br>\n",
    "\n",
    "Code Example: <br>\n",
    "<code> \n",
    "add_ten = lambda x: x + 10 <br>\n",
    "print(add_ten(5))  # Output: 15\n"
   ]
  },
  {
   "cell_type": "markdown",
   "metadata": {},
   "source": [
    "***\n",
    "<style>\n",
    "\tp {\n",
    "\t\tbackground-color: black;\n",
    "\t\tcolor: white;\n",
    "\t\tborder: 1px solid grey;\n",
    "\t\tfont-size: 30px;\n",
    "\t}\n",
    "</style>\n",
    "<p> Run the following code cells and check out the results </p>  \n"
   ]
  },
  {
   "cell_type": "markdown",
   "metadata": {},
   "source": [
    "#### Lambda Function Example: Add 10 "
   ]
  },
  {
   "cell_type": "code",
   "execution_count": 57,
   "metadata": {},
   "outputs": [
    {
     "name": "stdout",
     "output_type": "stream",
     "text": [
      "30\n"
     ]
    }
   ],
   "source": [
    "\n",
    "lfn = lambda x : x + 10\n",
    "\n",
    "a = lfn(20)\n",
    "print (a)"
   ]
  },
  {
   "cell_type": "markdown",
   "metadata": {},
   "source": [
    "### Lambda that returns x squared"
   ]
  },
  {
   "cell_type": "code",
   "execution_count": 58,
   "metadata": {},
   "outputs": [
    {
     "name": "stdout",
     "output_type": "stream",
     "text": [
      "100\n"
     ]
    }
   ],
   "source": [
    "squared = lambda x : x * x\n",
    "\n",
    "print (squared(10))"
   ]
  },
  {
   "cell_type": "markdown",
   "metadata": {},
   "source": [
    "### Lambda that returns a boolean as a result of x > y "
   ]
  },
  {
   "cell_type": "code",
   "execution_count": 59,
   "metadata": {},
   "outputs": [
    {
     "name": "stdout",
     "output_type": "stream",
     "text": [
      "False\n",
      "True\n"
     ]
    }
   ],
   "source": [
    "greater = lambda x, y : x > y \n",
    "\n",
    "print (greater(10, 20))\n",
    "print (greater(20, 10))\n"
   ]
  },
  {
   "cell_type": "markdown",
   "metadata": {},
   "source": [
    "### Function that returns a lambda "
   ]
  },
  {
   "cell_type": "code",
   "execution_count": 60,
   "metadata": {},
   "outputs": [
    {
     "name": "stdout",
     "output_type": "stream",
     "text": [
      "200\n",
      "400\n"
     ]
    }
   ],
   "source": [
    "def retlam( value):\n",
    "\treturn lambda parameter : parameter * value\n",
    "\n",
    "mylambda = retlam(10)\n",
    "print (mylambda(20))\n",
    "\n",
    "mylambda = retlam(20)\n",
    "print (mylambda(20))"
   ]
  },
  {
   "cell_type": "markdown",
   "metadata": {},
   "source": [
    "### Lambda Examples "
   ]
  },
  {
   "cell_type": "code",
   "execution_count": 61,
   "metadata": {},
   "outputs": [
    {
     "name": "stdout",
     "output_type": "stream",
     "text": [
      "[32, 93, 56, 39, 33]\n",
      "93\n",
      "56\n"
     ]
    }
   ],
   "source": [
    "import random\n",
    "\n",
    "lst = [ random.randint(0,100) for i in range(5)]\n",
    "print (lst)\n",
    "\n",
    "fmin = lambda x : (v for v in x if v > 50)\n",
    "\n",
    "for v in fmin(lst):\n",
    "\tprint (v)"
   ]
  },
  {
   "cell_type": "code",
   "execution_count": 62,
   "metadata": {},
   "outputs": [
    {
     "name": "stdout",
     "output_type": "stream",
     "text": [
      "20\n"
     ]
    }
   ],
   "source": [
    "gr = lambda x,y: x if x > y else y\n",
    "print (gr(10,20))\n"
   ]
  },
  {
   "cell_type": "code",
   "execution_count": 63,
   "metadata": {},
   "outputs": [
    {
     "name": "stdout",
     "output_type": "stream",
     "text": [
      "10\n",
      "5\n"
     ]
    }
   ],
   "source": [
    "total = 0\n",
    "def addValue(value):\n",
    "\tglobal total\n",
    "\ttotal += value \n",
    "\treturn total\n",
    "def subtractValue(value):\n",
    "\tglobal total\n",
    "\ttotal -= value\n",
    "\treturn total\n",
    "\n",
    "mylambda = lambda x, f: f(x)\n",
    "\n",
    "\n",
    "print (mylambda(10, addValue))\n",
    "print (mylambda(5, subtractValue))\n",
    "\n"
   ]
  },
  {
   "cell_type": "markdown",
   "metadata": {},
   "source": [
    "***\n",
    "#### <p style=\"font-family: Arial; font-size:1.4em; background-color: yellow; color:black;\"> Problem #6.7 </p>\n",
    "\n",
    "<style>\n",
    "\tp {\n",
    "\t\tbackground-color: black;\n",
    "\t\tcolor: white;\n",
    "\t\tborder: 1px solid grey;\n",
    "\t\tfont-size: 30px;\n",
    "\t}\n",
    "</style>\n",
    "<p> Make a Lamba function that returns the average of the list element values </p> \n",
    "- Example numbers = [1, 3, 2, 4, 5, 0] <br>\n",
    "- listavg = getavg(numbers)  # It should be 2.5\n"
   ]
  },
  {
   "cell_type": "code",
   "execution_count": 102,
   "metadata": {},
   "outputs": [
    {
     "name": "stdout",
     "output_type": "stream",
     "text": [
      "5.5\n"
     ]
    }
   ],
   "source": [
    "# Complete your code Here. Lambda Function\n",
    "\n",
    "getavg = lambda nums: sum(nums)/ len(nums)\n",
    "\n",
    "numbers = [1,2,3,4,5,6,7,8,9,10]\n",
    "result = getavg(numbers)\n",
    "\n",
    "\n",
    "print (result)"
   ]
  },
  {
   "cell_type": "markdown",
   "metadata": {},
   "source": [
    "***\n",
    "#### <p style=\"font-family: Arial; font-size:1.4em; background-color: yellow; color:black;\"> Problem #6.8 </p>\n",
    "\n",
    "<style>\n",
    "\tp {\n",
    "\t\tbackground-color: black;\n",
    "\t\tcolor: white;\n",
    "\t\tborder: 1px solid grey;\n",
    "\t\tfont-size: 30px;\n",
    "\t}\n",
    "</style>\n",
    "<p> Make a Lamba function that returns all the elment that are greater than the immediate right </p> \n",
    "- Example numbers = [1, 3, 2, 4, 5, 0] <br>\n",
    "- listavg = greaterRight(numbers)  # 3, 5\n"
   ]
  },
  {
   "cell_type": "code",
   "execution_count": 120,
   "metadata": {},
   "outputs": [
    {
     "name": "stdout",
     "output_type": "stream",
     "text": [
      "[3, 5]\n"
     ]
    }
   ],
   "source": [
    "#getGreater = #### Complete your Lambda Function Here. Not Regular Function.  \n",
    "\n",
    "\n",
    "getGreater = lambda nums: [nums[i] for i in range (len(nums)-1) if nums[i] > nums[i+1]]\n",
    "\n",
    "\n",
    "numbers = [1,3,2,4,5,0]\n",
    "result = getGreater(numbers)\n",
    "print (result)"
   ]
  },
  {
   "cell_type": "markdown",
   "metadata": {},
   "source": [
    "***\n",
    "#### <p style=\"font-family: Arial; font-size:1.4em; background-color: yellow; color:black;\"> Problem #6.9 </p>\n",
    "\n",
    "<style>\n",
    "\tp {\n",
    "\t\tbackground-color: black;\n",
    "\t\tcolor: white;\n",
    "\t\tborder: 1px solid grey;\n",
    "\t\tfont-size: 30px;\n",
    "\t}\n",
    "</style>\n",
    "<p> Make a Lamba function that recevies two lists and determine the longer list. Return the longer list </p>\n",
    "- Example n1 = [1, 3, 2, 4, 5, 0] n2 = [1,2,3]<br>\n",
    "- longerlst = compareTwoList(n1, n2)  # Return n1 \n"
   ]
  },
  {
   "cell_type": "code",
   "execution_count": 122,
   "metadata": {},
   "outputs": [
    {
     "name": "stdout",
     "output_type": "stream",
     "text": [
      "[[1, 3, 2, 4, 5, 0]]\n"
     ]
    }
   ],
   "source": [
    "#compareTwoList = lambda ## Complete your code HERE \n",
    "compareTwoList = lambda a,b: [ a if len(a) > len(b) else b]\n",
    "\n",
    "n1 = [1,3,2,4,5,0]\n",
    "n2 = [1,2,3]\n",
    "\n",
    "longer = compareTwoList(n1, n2)\n",
    "print (longer)"
   ]
  }
 ],
 "metadata": {
  "kernelspec": {
   "display_name": "Python 3.9.13 ('base')",
   "language": "python",
   "name": "python3"
  },
  "language_info": {
   "codemirror_mode": {
    "name": "ipython",
    "version": 3
   },
   "file_extension": ".py",
   "mimetype": "text/x-python",
   "name": "python",
   "nbconvert_exporter": "python",
   "pygments_lexer": "ipython3",
   "version": "3.11.9"
  },
  "orig_nbformat": 4,
  "vscode": {
   "interpreter": {
    "hash": "32cd87c0c55905266dc8232ebf1148f668af0d9324249c125246585210a29cd6"
   }
  }
 },
 "nbformat": 4,
 "nbformat_minor": 2
}
